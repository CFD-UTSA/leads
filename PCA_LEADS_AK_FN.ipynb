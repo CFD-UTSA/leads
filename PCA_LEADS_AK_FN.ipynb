{
 "cells": [
  {
   "cell_type": "markdown",
   "id": "020d2e7d",
   "metadata": {},
   "source": [
    "# PCA Leads\n",
    "### Principal component analysis of Arctic Sea ice using Sentinel-1 RADAR data\n",
    "#### Jullian C.B. Williams\n",
    "#### jullian.williams@my.utsa.edu\n",
    "##### Department of Civil and Environmental Engineering, The University of Texas at San Antonio, 1 UTSA Circle, San Antonio, Texas 78249\n",
    "\n",
    "# Summary\n",
    "The increasing concern regarding climate change continues to motivate research in the Arctic. Within the delicate cycle of the cryosphere, leads are an important kinematic feature that regulate heat balances in the Arctic. Therefore, it is necessary to quantify the genesis of leads over time to identify when and where changes are occurring. The use of a principal component analysis (PCA) is one such tool that is used to identify the characteristics of seasonal ice variability. The PCA not only identifies “normal” or “dominant” conditions or features, but also extract anomalous spatial features from an archive of long-term sequence of images. \n",
    "# Introduction \n",
    "Leads are described as linear kinematic features found on sea ice surfaces. The formation of leads is akin to the process of plate tectonics, where shifting ice sheets diverge, converge and slide against each other, forming fissures in the ice. Leads are important to arctic habitats and wildlife (Stirling, 1997), polar navigation  (Lasserre, 2015) and global climate (Hutter, 2018). Leads are important regulators of heat in the Arctic, with open water and thin ice leads providing the first and second largest heat fluxes into the atmosphere (approximately 600 W.m-2 and 5 W.m-2 respectively, (Maykut 1982 and Li, 2019)). \n",
    "Radar satellite imagery is used to observe and quantify the changes in lead fractions across the ice sheet. Radar data is particularly useful in quantifying lead fractions since the instrument can make observations in Polar regions regardless of weather conditions or time of year (Lindsay & Rothrock, 1995), (Rohrs & Kaleschke, 2012), (Brohan & Kalesche, 2014), (Willmes & Heinemann, 2015). The Sentinel-1 A/B instrument is a powerful, high resolution radar satellite imager that has been used for Polar observations since its launch in 2014 and 2016 (A and B respectively). The two-satellite constellation provides a 6-day exact repeat cycle, 12-day cross-over and a repeat frequency of less than 1 day in the Arctic (Lohse, 2020). Sentinel-1 has unprecedented nominal spatial resolution of ~40 m, which allows small scale leads on the ice surface to be captured.    \n",
    "Google Earth Engine (GEE) hosts a large repository of satellite data, including the entire Sentinel catalog. GEE has been used in several research arenas, from vegetation and land use mapping (Gorelick et al., 2017 and Tsai, et al., 2018) to wetland and snow melt detection (Gulacsi, et al., 2020 and Liang et., al, 2021). Indeed, GEE and Sentinel-1 are proven powerhouses in the use of remote sensing techniques and climate observations in cloud computation environments. Currently, there are no studies published focusing on the detection of leads in the Arctic using this platform which provide a solution to the common big data problem of data storage and computation power. \n",
    "This study provides a principal component technique to sea ice classification in the GEE cloud computation environment using Sentinel-1 radar data. The Beaufort Gyre (Figure 1), once described as an ice production area has shown a decrease in productivity with increased climate forcing over the last decade (Armitage, 2020). This motivates our investigation of sea ice lead prevalence during the lifetime of the Sentinel-1 instrument. The aim of this study is to classify sea ice open water and thin ice leads in the offshore Alaskan region in the Beaufort Gyre to assess the changes potential heat flux over the ice sheet. \n",
    " \n",
    "# Datasets\n",
    "1.\tSentinel-1 RADAR data\n",
    "https://developers.google.com/earth-engine/datasets/catalog/COPERNICUS_S1_GRD\n",
    "\n",
    "# Methods\n",
    "##### Google Colab Python environment\n",
    "Alongside the use of GEE for data retrieval, preparation and classification, we opt to use Google Colab, a cloud computation python environment. Indeed, Google Colab (GC) is an exceptional tool for the use of superior python functions in the cloud, minimizing the pressure of data storage while simultaneously enhancing processing power through parallelization. GC allows the user to mount their Google Drive storage point to the environment, allowing easy data imports and exports of results. \n",
    "\n",
    "##### Python Modules\n",
    "* from datetime import datetime\n",
    "* import pandas as pd\n",
    "* import geopandas as gpd\n",
    "* import numpy as np\n",
    "* import matplotlib.pyplot as plt\n",
    "* from matplotlib import cm\n",
    "* import matplotlib.cbook\n",
    "* from mpl_toolkits.basemap import Basemapimport random\n",
    "* from mpl_toolkits.axes_grid1 import make_axes_locatable\n",
    "* from scipy import stats\n",
    "* import matplotlib.image as mpimg\n",
    "* from sklearn.metrics import r2_score\n",
    "* from sklearn.decomposition import PCA\n",
    "* import warnings\n",
    "\n",
    "##### Principal Component Analysis\n",
    "The PCA method is such that the first component will always contain the most variation found in the original data. This is referred to as the “integrated brightness” and provides a good index of the general image characteristics. In the case of sea ice data, the image scenes may be water or ice dominant. The second component then highlights the major differences between the image channels. In fact, it is suggested that studies using multitemporal monthly data over an annual cycle display a second component that tracks the seasonal evolution well (Piwowar, et al., 1996). Principal components three and onward usually represent increasingly local variation and anomalies. Therefore, we propose that it is within these variations that the open water and thin ice leads may be characterized. \n",
    "Plotting Techniques\n",
    "The results of the principal component analysis yield mean and anomalous digital signals from the false RGB color composite images. From this, we can visualize these parameters quantitatively in scatter plots to display the orthogonal components. The mean and standard deviations will give a margin of error of the spectral boundaries of the lead types versus the ice ridges in the image scenes which can be both spectrally and geometrically similar.  \n",
    "# Expected results\n",
    "A time series analysis of the evolution of sea ice leads in the Beaufort Gyre. \n",
    "# References\n",
    "1.\tArmitage, T., Manucharyan, G., Petty, A., Kwok, R., & Thompson, A. (2020). Enhanced eddy activity in the Beaufort Gyre in response to sea ice loss. Nature Communications, 11(1). doi: 10.1038/s41467-020-14449-z\n",
    "2.\tGorelick, N., Hancher, M., Dixon, M., Ilyushchenko, S., Thau, D., & Moore, R. (2017). Google Earth Engine: Planetary-scale geospatial analysis for everyone. Remote Sensing Of Environment, 202, 18-27. doi: 10.1016/j.rse.2017.06.031\n",
    "3.\tGulácsi, A., & Kovács, F. (2020). Sentinel-1-Imagery-Based High-Resolution Water Cover Detection on Wetlands, Aided by Google Earth Engine. Remote Sensing, 12(10), 1614. doi: 10.3390/rs12101614\n",
    "4.\tHutter, N., Zampieri, L., & Losch, M. (2018). Leads and ridges in Arctic sea ice from RGPS data and a new tracking algorithm. The Cryosphere Discussions, 1-27. doi: 10.5194/tc-2018-207.\n",
    "5.\tLi, X., Krueger, S., Strong, C., & Mace, J. (2019). Effects of Midwinter Arctic Lead on Boundary Layer Clouds. Presentation.\n",
    "6.\tLiang, D., Guo, H., Zhang, L., Cheng, Y., Zhu, Q., & Liu, X. (2021). Time-series snowmelt detection over the Antarctic using Sentinel-1 SAR images on Google Earth Engine. Remote Sensing Of Environment, 256, 112318. doi: 10.1016/j.rse.2021.112318\n",
    "7.\tLindsay, R., & Rothrock, D. (1995). Arctic sea ice leads from advanced very high resolution radiometer images. Journal of Geophysical Research, 100(C3), 4533. doi: 10.1029/94jc02393.\n",
    "8.\tLohse, J., Doulgeris, A., & Dierking, W. (2019). An Optimal Decision-Tree Design Strategy and Its Application to Sea Ice Classification from SAR Imagery. Remote Sensing, 11(13), 1574. doi: 10.3390/rs11131574.\n",
    "9.\tPiwowar, J., & LeDrew, E. (1996). Principal Components Analysis of Arctic Ice Conditions between 1978 and 1987 as Observed from the SMMR Data Record. Canadian Journal Of Remote Sensing, 22(4), 390-403. doi: 10.1080/07038992.1996.10874663\n",
    "10.\tRöhrs, J., & Kaleschke, L. (2012). An algorithm to detect sea ice leads by using AMSR-E passive microwave imagery. The Cryosphere, 6(2), 343-352. doi: 10.5194/tc-6-343-2012.\n",
    "11.\tStirling, I. (1997). The importance of polynyas, ice edges, and leads to marine mammals and birds. Journal Of Marine Systems, 10(1-4), 9-21. doi: 10.1016/s0924-7963(96)00054-1\n",
    "12.\tTsai, Y., Stow, D., Chen, H., Lewison, R., An, L., & Shi, L. (2018). Mapping Vegetation and Land Use Types in Fanjingshan National Nature Reserve Using Google Earth Engine. Remote Sensing, 10(6), 927. doi: 10.3390/rs10060927\n",
    "13.\tWillmes, S. & Heinemann, G. (2015). Sea-Ice Wintertime Lead Frequencies and Regional Characteristics in the Arctic, 2003–2015. Remote Sensing, 8(1), 4. doi: 10.3390/rs8010004."
   ]
  },
  {
   "cell_type": "code",
   "execution_count": 3,
   "id": "526b289e",
   "metadata": {},
   "outputs": [],
   "source": [
    "import pandas as pd\n",
    "import numpy as np\n",
    "import geopandas as gpd\n",
    "import matplotlib \n",
    "from matplotlib import pyplot as plt\n",
    "from scipy import fftpack\n",
    "from scipy import stats\n",
    "\n",
    "from matplotlib import cm\n",
    "import random\n",
    "import warnings\n",
    "\n",
    "import matplotlib.image as mpimg\n",
    "from sklearn.metrics import r2_score\n",
    "from sklearn.decomposition import PCA\n",
    "from sklearn.preprocessing import StandardScaler\n",
    "import seaborn as sns\n",
    "%matplotlib inline"
   ]
  },
  {
   "cell_type": "markdown",
   "id": "e08a4916",
   "metadata": {},
   "source": [
    "### Link to dataset. Must have UTSA email to access."
   ]
  },
  {
   "cell_type": "code",
   "execution_count": null,
   "id": "50e63d4c",
   "metadata": {},
   "outputs": [],
   "source": [
    "#https://drive.google.com/drive/folders/123bdWpBsmG7vnT5w6XiuZ2FqJzxlnDnV?usp=sharing"
   ]
  },
  {
   "cell_type": "code",
   "execution_count": 4,
   "id": "eaf2dbb7",
   "metadata": {},
   "outputs": [],
   "source": [
    "dxt =  pd.read_csv(\"C:/Users/julli/Desktop/classes/dxt.csv\").dropna()"
   ]
  },
  {
   "cell_type": "code",
   "execution_count": 5,
   "id": "3e49edc3",
   "metadata": {},
   "outputs": [],
   "source": [
    "jxt =  pd.read_csv(\"C:/Users/julli/Desktop/classes/jxt.csv\").dropna()"
   ]
  },
  {
   "cell_type": "code",
   "execution_count": 6,
   "id": "e0322cb5",
   "metadata": {},
   "outputs": [],
   "source": [
    "fxt =  pd.read_csv(\"C:/Users/julli/Desktop/classes/fxt.csv\").dropna()"
   ]
  },
  {
   "cell_type": "code",
   "execution_count": 7,
   "id": "03586a88",
   "metadata": {},
   "outputs": [
    {
     "data": {
      "text/html": [
       "<div>\n",
       "<style scoped>\n",
       "    .dataframe tbody tr th:only-of-type {\n",
       "        vertical-align: middle;\n",
       "    }\n",
       "\n",
       "    .dataframe tbody tr th {\n",
       "        vertical-align: top;\n",
       "    }\n",
       "\n",
       "    .dataframe thead th {\n",
       "        text-align: right;\n",
       "    }\n",
       "</style>\n",
       "<table border=\"1\" class=\"dataframe\">\n",
       "  <thead>\n",
       "    <tr style=\"text-align: right;\">\n",
       "      <th></th>\n",
       "      <th>HH</th>\n",
       "      <th>HH_1</th>\n",
       "      <th>HV</th>\n",
       "      <th>icetype</th>\n",
       "      <th>geometry</th>\n",
       "      <th>jday</th>\n",
       "      <th>area</th>\n",
       "    </tr>\n",
       "  </thead>\n",
       "  <tbody>\n",
       "    <tr>\n",
       "      <th>0</th>\n",
       "      <td>149.000000</td>\n",
       "      <td>88.000000</td>\n",
       "      <td>59.000000</td>\n",
       "      <td>2</td>\n",
       "      <td>POLYGON ((-1000000.000000166 1426000.000000238...</td>\n",
       "      <td>335</td>\n",
       "      <td>1.0</td>\n",
       "    </tr>\n",
       "    <tr>\n",
       "      <th>1</th>\n",
       "      <td>142.000000</td>\n",
       "      <td>107.000000</td>\n",
       "      <td>53.000000</td>\n",
       "      <td>1</td>\n",
       "      <td>POLYGON ((-1000000.000000167 1432000.000000238...</td>\n",
       "      <td>335</td>\n",
       "      <td>1.0</td>\n",
       "    </tr>\n",
       "    <tr>\n",
       "      <th>2</th>\n",
       "      <td>160.500000</td>\n",
       "      <td>48.000000</td>\n",
       "      <td>87.000000</td>\n",
       "      <td>2</td>\n",
       "      <td>POLYGON ((-1000000.000000169 1437000.000000242...</td>\n",
       "      <td>335</td>\n",
       "      <td>2.0</td>\n",
       "    </tr>\n",
       "    <tr>\n",
       "      <th>3</th>\n",
       "      <td>149.000000</td>\n",
       "      <td>87.000000</td>\n",
       "      <td>60.000000</td>\n",
       "      <td>2</td>\n",
       "      <td>MULTIPOLYGON (((-999000.0000000843 1450000.000...</td>\n",
       "      <td>335</td>\n",
       "      <td>2.0</td>\n",
       "    </tr>\n",
       "    <tr>\n",
       "      <th>4</th>\n",
       "      <td>157.000000</td>\n",
       "      <td>57.000000</td>\n",
       "      <td>79.000000</td>\n",
       "      <td>6</td>\n",
       "      <td>POLYGON ((-1000000.000000171 1466000.000000251...</td>\n",
       "      <td>335</td>\n",
       "      <td>1.0</td>\n",
       "    </tr>\n",
       "    <tr>\n",
       "      <th>5</th>\n",
       "      <td>155.000000</td>\n",
       "      <td>63.000000</td>\n",
       "      <td>77.000000</td>\n",
       "      <td>6</td>\n",
       "      <td>POLYGON ((-1000000.000000172 1484000.000000256...</td>\n",
       "      <td>335</td>\n",
       "      <td>1.0</td>\n",
       "    </tr>\n",
       "    <tr>\n",
       "      <th>6</th>\n",
       "      <td>152.000000</td>\n",
       "      <td>68.000000</td>\n",
       "      <td>76.000000</td>\n",
       "      <td>6</td>\n",
       "      <td>POLYGON ((-1000000.000000174 1494000.00000026,...</td>\n",
       "      <td>335</td>\n",
       "      <td>1.0</td>\n",
       "    </tr>\n",
       "    <tr>\n",
       "      <th>7</th>\n",
       "      <td>154.000000</td>\n",
       "      <td>64.000000</td>\n",
       "      <td>79.000000</td>\n",
       "      <td>2</td>\n",
       "      <td>POLYGON ((-1000000.000000177 1521000.00000027,...</td>\n",
       "      <td>335</td>\n",
       "      <td>1.0</td>\n",
       "    </tr>\n",
       "    <tr>\n",
       "      <th>8</th>\n",
       "      <td>151.846154</td>\n",
       "      <td>71.384615</td>\n",
       "      <td>73.076923</td>\n",
       "      <td>6</td>\n",
       "      <td>POLYGON ((-1000000.000000178 1538000.000000276...</td>\n",
       "      <td>335</td>\n",
       "      <td>13.0</td>\n",
       "    </tr>\n",
       "    <tr>\n",
       "      <th>9</th>\n",
       "      <td>155.000000</td>\n",
       "      <td>61.000000</td>\n",
       "      <td>79.000000</td>\n",
       "      <td>2</td>\n",
       "      <td>POLYGON ((-1000000.000000183 1576000.000000288...</td>\n",
       "      <td>335</td>\n",
       "      <td>1.0</td>\n",
       "    </tr>\n",
       "  </tbody>\n",
       "</table>\n",
       "</div>"
      ],
      "text/plain": [
       "           HH        HH_1         HV  icetype  \\\n",
       "0  149.000000   88.000000  59.000000        2   \n",
       "1  142.000000  107.000000  53.000000        1   \n",
       "2  160.500000   48.000000  87.000000        2   \n",
       "3  149.000000   87.000000  60.000000        2   \n",
       "4  157.000000   57.000000  79.000000        6   \n",
       "5  155.000000   63.000000  77.000000        6   \n",
       "6  152.000000   68.000000  76.000000        6   \n",
       "7  154.000000   64.000000  79.000000        2   \n",
       "8  151.846154   71.384615  73.076923        6   \n",
       "9  155.000000   61.000000  79.000000        2   \n",
       "\n",
       "                                            geometry  jday  area  \n",
       "0  POLYGON ((-1000000.000000166 1426000.000000238...   335   1.0  \n",
       "1  POLYGON ((-1000000.000000167 1432000.000000238...   335   1.0  \n",
       "2  POLYGON ((-1000000.000000169 1437000.000000242...   335   2.0  \n",
       "3  MULTIPOLYGON (((-999000.0000000843 1450000.000...   335   2.0  \n",
       "4  POLYGON ((-1000000.000000171 1466000.000000251...   335   1.0  \n",
       "5  POLYGON ((-1000000.000000172 1484000.000000256...   335   1.0  \n",
       "6  POLYGON ((-1000000.000000174 1494000.00000026,...   335   1.0  \n",
       "7  POLYGON ((-1000000.000000177 1521000.00000027,...   335   1.0  \n",
       "8  POLYGON ((-1000000.000000178 1538000.000000276...   335  13.0  \n",
       "9  POLYGON ((-1000000.000000183 1576000.000000288...   335   1.0  "
      ]
     },
     "execution_count": 7,
     "metadata": {},
     "output_type": "execute_result"
    }
   ],
   "source": [
    "dxt = dxt[['HH','HH_1','HV','icetype','geometry','jday','area']]\n",
    "dxt.head(10)"
   ]
  },
  {
   "cell_type": "code",
   "execution_count": 8,
   "id": "3769459e",
   "metadata": {},
   "outputs": [
    {
     "data": {
      "text/html": [
       "<div>\n",
       "<style scoped>\n",
       "    .dataframe tbody tr th:only-of-type {\n",
       "        vertical-align: middle;\n",
       "    }\n",
       "\n",
       "    .dataframe tbody tr th {\n",
       "        vertical-align: top;\n",
       "    }\n",
       "\n",
       "    .dataframe thead th {\n",
       "        text-align: right;\n",
       "    }\n",
       "</style>\n",
       "<table border=\"1\" class=\"dataframe\">\n",
       "  <thead>\n",
       "    <tr style=\"text-align: right;\">\n",
       "      <th></th>\n",
       "      <th>HH</th>\n",
       "      <th>HH_1</th>\n",
       "      <th>HV</th>\n",
       "      <th>icetype</th>\n",
       "      <th>geometry</th>\n",
       "      <th>jday</th>\n",
       "      <th>area</th>\n",
       "    </tr>\n",
       "  </thead>\n",
       "  <tbody>\n",
       "    <tr>\n",
       "      <th>207</th>\n",
       "      <td>137.436190</td>\n",
       "      <td>95.641311</td>\n",
       "      <td>74.820541</td>\n",
       "      <td>5</td>\n",
       "      <td>MULTIPOLYGON (((-461999.9999999111 1798999.999...</td>\n",
       "      <td>2</td>\n",
       "      <td>16021.00000</td>\n",
       "    </tr>\n",
       "    <tr>\n",
       "      <th>215</th>\n",
       "      <td>137.699919</td>\n",
       "      <td>98.998648</td>\n",
       "      <td>71.180187</td>\n",
       "      <td>6</td>\n",
       "      <td>MULTIPOLYGON (((-471000.0000000432 1926000.000...</td>\n",
       "      <td>2</td>\n",
       "      <td>109673.62288</td>\n",
       "    </tr>\n",
       "    <tr>\n",
       "      <th>2894</th>\n",
       "      <td>130.134286</td>\n",
       "      <td>115.501429</td>\n",
       "      <td>68.385714</td>\n",
       "      <td>5</td>\n",
       "      <td>MULTIPOLYGON (((-682999.9999999786 1609000.000...</td>\n",
       "      <td>2</td>\n",
       "      <td>23.00000</td>\n",
       "    </tr>\n",
       "    <tr>\n",
       "      <th>3013</th>\n",
       "      <td>133.857143</td>\n",
       "      <td>104.500000</td>\n",
       "      <td>72.214286</td>\n",
       "      <td>5</td>\n",
       "      <td>MULTIPOLYGON (((-692999.9999999371 1599000.000...</td>\n",
       "      <td>2</td>\n",
       "      <td>14.00000</td>\n",
       "    </tr>\n",
       "    <tr>\n",
       "      <th>3014</th>\n",
       "      <td>93.229947</td>\n",
       "      <td>246.390374</td>\n",
       "      <td>25.181818</td>\n",
       "      <td>5</td>\n",
       "      <td>POLYGON ((-691000.0000001161 1606000.000000269...</td>\n",
       "      <td>2</td>\n",
       "      <td>2.00000</td>\n",
       "    </tr>\n",
       "    <tr>\n",
       "      <th>3041</th>\n",
       "      <td>134.000000</td>\n",
       "      <td>104.203390</td>\n",
       "      <td>72.033898</td>\n",
       "      <td>2</td>\n",
       "      <td>MULTIPOLYGON (((-691999.9999999927 1610000.000...</td>\n",
       "      <td>2</td>\n",
       "      <td>4.00000</td>\n",
       "    </tr>\n",
       "    <tr>\n",
       "      <th>3042</th>\n",
       "      <td>132.639098</td>\n",
       "      <td>107.721805</td>\n",
       "      <td>71.000000</td>\n",
       "      <td>2</td>\n",
       "      <td>POLYGON ((-693000.0000001177 1615000.000000274...</td>\n",
       "      <td>2</td>\n",
       "      <td>5.00000</td>\n",
       "    </tr>\n",
       "    <tr>\n",
       "      <th>3053</th>\n",
       "      <td>139.000000</td>\n",
       "      <td>91.000000</td>\n",
       "      <td>77.000000</td>\n",
       "      <td>1</td>\n",
       "      <td>POLYGON ((-694000.0000001161 1597000.000000267...</td>\n",
       "      <td>2</td>\n",
       "      <td>1.00000</td>\n",
       "    </tr>\n",
       "    <tr>\n",
       "      <th>3054</th>\n",
       "      <td>138.000000</td>\n",
       "      <td>96.000000</td>\n",
       "      <td>73.000000</td>\n",
       "      <td>5</td>\n",
       "      <td>POLYGON ((-694000.0000001155 1603000.000000267...</td>\n",
       "      <td>2</td>\n",
       "      <td>1.00000</td>\n",
       "    </tr>\n",
       "    <tr>\n",
       "      <th>3055</th>\n",
       "      <td>133.000000</td>\n",
       "      <td>104.000000</td>\n",
       "      <td>74.500000</td>\n",
       "      <td>5</td>\n",
       "      <td>POLYGON ((-695000.0000001178 1613000.000000274...</td>\n",
       "      <td>2</td>\n",
       "      <td>2.00000</td>\n",
       "    </tr>\n",
       "  </tbody>\n",
       "</table>\n",
       "</div>"
      ],
      "text/plain": [
       "              HH        HH_1         HV  icetype  \\\n",
       "207   137.436190   95.641311  74.820541        5   \n",
       "215   137.699919   98.998648  71.180187        6   \n",
       "2894  130.134286  115.501429  68.385714        5   \n",
       "3013  133.857143  104.500000  72.214286        5   \n",
       "3014   93.229947  246.390374  25.181818        5   \n",
       "3041  134.000000  104.203390  72.033898        2   \n",
       "3042  132.639098  107.721805  71.000000        2   \n",
       "3053  139.000000   91.000000  77.000000        1   \n",
       "3054  138.000000   96.000000  73.000000        5   \n",
       "3055  133.000000  104.000000  74.500000        5   \n",
       "\n",
       "                                               geometry  jday          area  \n",
       "207   MULTIPOLYGON (((-461999.9999999111 1798999.999...     2   16021.00000  \n",
       "215   MULTIPOLYGON (((-471000.0000000432 1926000.000...     2  109673.62288  \n",
       "2894  MULTIPOLYGON (((-682999.9999999786 1609000.000...     2      23.00000  \n",
       "3013  MULTIPOLYGON (((-692999.9999999371 1599000.000...     2      14.00000  \n",
       "3014  POLYGON ((-691000.0000001161 1606000.000000269...     2       2.00000  \n",
       "3041  MULTIPOLYGON (((-691999.9999999927 1610000.000...     2       4.00000  \n",
       "3042  POLYGON ((-693000.0000001177 1615000.000000274...     2       5.00000  \n",
       "3053  POLYGON ((-694000.0000001161 1597000.000000267...     2       1.00000  \n",
       "3054  POLYGON ((-694000.0000001155 1603000.000000267...     2       1.00000  \n",
       "3055  POLYGON ((-695000.0000001178 1613000.000000274...     2       2.00000  "
      ]
     },
     "execution_count": 8,
     "metadata": {},
     "output_type": "execute_result"
    }
   ],
   "source": [
    "jxt = jxt[['HH','HH_1','HV','icetype','geometry','jday','area']]\n",
    "jxt.head(10)"
   ]
  },
  {
   "cell_type": "code",
   "execution_count": 9,
   "id": "4e193f37",
   "metadata": {},
   "outputs": [
    {
     "data": {
      "text/html": [
       "<div>\n",
       "<style scoped>\n",
       "    .dataframe tbody tr th:only-of-type {\n",
       "        vertical-align: middle;\n",
       "    }\n",
       "\n",
       "    .dataframe tbody tr th {\n",
       "        vertical-align: top;\n",
       "    }\n",
       "\n",
       "    .dataframe thead th {\n",
       "        text-align: right;\n",
       "    }\n",
       "</style>\n",
       "<table border=\"1\" class=\"dataframe\">\n",
       "  <thead>\n",
       "    <tr style=\"text-align: right;\">\n",
       "      <th></th>\n",
       "      <th>HH</th>\n",
       "      <th>HH_1</th>\n",
       "      <th>HV</th>\n",
       "      <th>icetype</th>\n",
       "      <th>geometry</th>\n",
       "      <th>jday</th>\n",
       "      <th>area</th>\n",
       "    </tr>\n",
       "  </thead>\n",
       "  <tbody>\n",
       "    <tr>\n",
       "      <th>0</th>\n",
       "      <td>153.000000</td>\n",
       "      <td>66.000000</td>\n",
       "      <td>77.000000</td>\n",
       "      <td>5</td>\n",
       "      <td>POLYGON ((-1000000.000000168 1439000.000000243...</td>\n",
       "      <td>32</td>\n",
       "      <td>1.0</td>\n",
       "    </tr>\n",
       "    <tr>\n",
       "      <th>1</th>\n",
       "      <td>156.666667</td>\n",
       "      <td>56.666667</td>\n",
       "      <td>81.333333</td>\n",
       "      <td>6</td>\n",
       "      <td>POLYGON ((-1002000.000000171 1458000.000000249...</td>\n",
       "      <td>32</td>\n",
       "      <td>3.0</td>\n",
       "    </tr>\n",
       "    <tr>\n",
       "      <th>2</th>\n",
       "      <td>161.000000</td>\n",
       "      <td>49.000000</td>\n",
       "      <td>82.000000</td>\n",
       "      <td>6</td>\n",
       "      <td>POLYGON ((-1000000.00000017 1463000.000000249,...</td>\n",
       "      <td>32</td>\n",
       "      <td>1.0</td>\n",
       "    </tr>\n",
       "    <tr>\n",
       "      <th>3</th>\n",
       "      <td>160.666667</td>\n",
       "      <td>46.666667</td>\n",
       "      <td>87.000000</td>\n",
       "      <td>5</td>\n",
       "      <td>POLYGON ((-1000000.000000171 1477000.000000254...</td>\n",
       "      <td>32</td>\n",
       "      <td>3.0</td>\n",
       "    </tr>\n",
       "    <tr>\n",
       "      <th>4</th>\n",
       "      <td>158.000000</td>\n",
       "      <td>57.000000</td>\n",
       "      <td>78.000000</td>\n",
       "      <td>6</td>\n",
       "      <td>POLYGON ((-1000000.000000177 1532000.000000272...</td>\n",
       "      <td>32</td>\n",
       "      <td>1.0</td>\n",
       "    </tr>\n",
       "    <tr>\n",
       "      <th>5</th>\n",
       "      <td>158.000000</td>\n",
       "      <td>52.000000</td>\n",
       "      <td>86.000000</td>\n",
       "      <td>6</td>\n",
       "      <td>POLYGON ((-1000000.000000179 1534000.000000274...</td>\n",
       "      <td>32</td>\n",
       "      <td>1.0</td>\n",
       "    </tr>\n",
       "    <tr>\n",
       "      <th>6</th>\n",
       "      <td>156.666667</td>\n",
       "      <td>57.833333</td>\n",
       "      <td>80.833333</td>\n",
       "      <td>6</td>\n",
       "      <td>MULTIPOLYGON (((-1000000.000000465 1569000.000...</td>\n",
       "      <td>32</td>\n",
       "      <td>6.0</td>\n",
       "    </tr>\n",
       "    <tr>\n",
       "      <th>7</th>\n",
       "      <td>149.500000</td>\n",
       "      <td>85.000000</td>\n",
       "      <td>61.500000</td>\n",
       "      <td>2</td>\n",
       "      <td>POLYGON ((-1000000.000000184 1582000.000000292...</td>\n",
       "      <td>32</td>\n",
       "      <td>2.0</td>\n",
       "    </tr>\n",
       "    <tr>\n",
       "      <th>8</th>\n",
       "      <td>149.000000</td>\n",
       "      <td>79.500000</td>\n",
       "      <td>69.500000</td>\n",
       "      <td>5</td>\n",
       "      <td>MULTIPOLYGON (((-999000.0000000143 1583999.999...</td>\n",
       "      <td>32</td>\n",
       "      <td>2.0</td>\n",
       "    </tr>\n",
       "    <tr>\n",
       "      <th>17</th>\n",
       "      <td>153.000000</td>\n",
       "      <td>73.000000</td>\n",
       "      <td>69.000000</td>\n",
       "      <td>6</td>\n",
       "      <td>POLYGON ((-1001000.000000171 1460000.00000025,...</td>\n",
       "      <td>32</td>\n",
       "      <td>1.0</td>\n",
       "    </tr>\n",
       "  </tbody>\n",
       "</table>\n",
       "</div>"
      ],
      "text/plain": [
       "            HH       HH_1         HV  icetype  \\\n",
       "0   153.000000  66.000000  77.000000        5   \n",
       "1   156.666667  56.666667  81.333333        6   \n",
       "2   161.000000  49.000000  82.000000        6   \n",
       "3   160.666667  46.666667  87.000000        5   \n",
       "4   158.000000  57.000000  78.000000        6   \n",
       "5   158.000000  52.000000  86.000000        6   \n",
       "6   156.666667  57.833333  80.833333        6   \n",
       "7   149.500000  85.000000  61.500000        2   \n",
       "8   149.000000  79.500000  69.500000        5   \n",
       "17  153.000000  73.000000  69.000000        6   \n",
       "\n",
       "                                             geometry  jday  area  \n",
       "0   POLYGON ((-1000000.000000168 1439000.000000243...    32   1.0  \n",
       "1   POLYGON ((-1002000.000000171 1458000.000000249...    32   3.0  \n",
       "2   POLYGON ((-1000000.00000017 1463000.000000249,...    32   1.0  \n",
       "3   POLYGON ((-1000000.000000171 1477000.000000254...    32   3.0  \n",
       "4   POLYGON ((-1000000.000000177 1532000.000000272...    32   1.0  \n",
       "5   POLYGON ((-1000000.000000179 1534000.000000274...    32   1.0  \n",
       "6   MULTIPOLYGON (((-1000000.000000465 1569000.000...    32   6.0  \n",
       "7   POLYGON ((-1000000.000000184 1582000.000000292...    32   2.0  \n",
       "8   MULTIPOLYGON (((-999000.0000000143 1583999.999...    32   2.0  \n",
       "17  POLYGON ((-1001000.000000171 1460000.00000025,...    32   1.0  "
      ]
     },
     "execution_count": 9,
     "metadata": {},
     "output_type": "execute_result"
    }
   ],
   "source": [
    "fxt = fxt[['HH','HH_1','HV','icetype','geometry','jday','area']]\n",
    "fxt.head(10)"
   ]
  },
  {
   "cell_type": "code",
   "execution_count": 10,
   "id": "b4ba9535",
   "metadata": {},
   "outputs": [],
   "source": [
    "txt = pd.concat([dxt,jxt,fxt])"
   ]
  },
  {
   "cell_type": "code",
   "execution_count": 196,
   "id": "7887a91a",
   "metadata": {},
   "outputs": [
    {
     "name": "stdout",
     "output_type": "stream",
     "text": [
      "<class 'pandas.core.frame.DataFrame'>\n",
      "Int64Index: 120993 entries, 0 to 151782\n",
      "Data columns (total 7 columns):\n",
      " #   Column    Non-Null Count   Dtype  \n",
      "---  ------    --------------   -----  \n",
      " 0   HH        120993 non-null  float64\n",
      " 1   HH_1      120993 non-null  float64\n",
      " 2   HV        120993 non-null  float64\n",
      " 3   icetype   120993 non-null  int64  \n",
      " 4   geometry  120993 non-null  object \n",
      " 5   jday      120993 non-null  int64  \n",
      " 6   area      120993 non-null  float64\n",
      "dtypes: float64(4), int64(2), object(1)\n",
      "memory usage: 7.4+ MB\n"
     ]
    }
   ],
   "source": [
    "txt.info()"
   ]
  },
  {
   "cell_type": "markdown",
   "id": "9fd34ad2",
   "metadata": {},
   "source": [
    "### This is a total plot from Dec - Feb 2020. \n",
    "Adjust by month as necessary."
   ]
  },
  {
   "cell_type": "code",
   "execution_count": 203,
   "id": "f585cf31",
   "metadata": {},
   "outputs": [
    {
     "data": {
      "image/png": "[encoded data removed]",
      "text/plain": [
       "<Figure size 4680x864 with 1 Axes>"
      ]
     },
     "metadata": {
      "needs_background": "light"
     },
     "output_type": "display_data"
    }
   ],
   "source": [
    "fig, ax = plt.subplots(figsize=(65,12))\n",
    "txt.groupby([txt[\"jday\"],txt[\"icetype\"]])[\"area\"].sum().unstack().plot(logy= False, kind='bar', ax = ax)\n",
    "ax.legend( ['Open Water', 'Thin Ice Lead', 'Thin Ice Pack','Thick Ice Pack'],  fontsize=16)\n",
    "plt.xticks(fontsize=14)\n",
    "plt.yticks(fontsize=14)\n",
    "plt.xlabel('Julian Day',fontsize=16)\n",
    "plt.ylabel('Total Area' '(km $\\mathregular{^2}$)',fontsize=16)\n",
    "plt.title(\"Total Ice Type Area\",color = 'black', fontweight = 'bold', fontsize = '16')\n",
    "loc='best'\n",
    "#fig.savefig('dec_area.png')"
   ]
  },
  {
   "cell_type": "markdown",
   "id": "16bdfa95",
   "metadata": {},
   "source": [
    "### Principal Component Analysis"
   ]
  },
  {
   "cell_type": "code",
   "execution_count": 90,
   "id": "f7bc8576",
   "metadata": {},
   "outputs": [],
   "source": [
    "pca = PCA(2)"
   ]
  },
  {
   "cell_type": "code",
   "execution_count": 162,
   "id": "c3e6deb9",
   "metadata": {},
   "outputs": [
    {
     "data": {
      "text/plain": [
       "PCA(n_components=2)"
      ]
     },
     "execution_count": 162,
     "metadata": {},
     "output_type": "execute_result"
    }
   ],
   "source": [
    "xpca = dxt.iloc[:, 0:4] #interchange dxt,jxt,fxt for dec, jan, feb\n",
    "pca.fit(xpca)"
   ]
  },
  {
   "cell_type": "code",
   "execution_count": 163,
   "id": "9b72592f",
   "metadata": {},
   "outputs": [
    {
     "data": {
      "text/html": [
       "<div>\n",
       "<style scoped>\n",
       "    .dataframe tbody tr th:only-of-type {\n",
       "        vertical-align: middle;\n",
       "    }\n",
       "\n",
       "    .dataframe tbody tr th {\n",
       "        vertical-align: top;\n",
       "    }\n",
       "\n",
       "    .dataframe thead th {\n",
       "        text-align: right;\n",
       "    }\n",
       "</style>\n",
       "<table border=\"1\" class=\"dataframe\">\n",
       "  <thead>\n",
       "    <tr style=\"text-align: right;\">\n",
       "      <th></th>\n",
       "      <th>HH</th>\n",
       "      <th>HH_1</th>\n",
       "      <th>HV</th>\n",
       "      <th>icetype</th>\n",
       "    </tr>\n",
       "  </thead>\n",
       "  <tbody>\n",
       "    <tr>\n",
       "      <th>0</th>\n",
       "      <td>149.0</td>\n",
       "      <td>88.0</td>\n",
       "      <td>59.0</td>\n",
       "      <td>2</td>\n",
       "    </tr>\n",
       "    <tr>\n",
       "      <th>1</th>\n",
       "      <td>142.0</td>\n",
       "      <td>107.0</td>\n",
       "      <td>53.0</td>\n",
       "      <td>1</td>\n",
       "    </tr>\n",
       "    <tr>\n",
       "      <th>2</th>\n",
       "      <td>160.5</td>\n",
       "      <td>48.0</td>\n",
       "      <td>87.0</td>\n",
       "      <td>2</td>\n",
       "    </tr>\n",
       "    <tr>\n",
       "      <th>3</th>\n",
       "      <td>149.0</td>\n",
       "      <td>87.0</td>\n",
       "      <td>60.0</td>\n",
       "      <td>2</td>\n",
       "    </tr>\n",
       "    <tr>\n",
       "      <th>4</th>\n",
       "      <td>157.0</td>\n",
       "      <td>57.0</td>\n",
       "      <td>79.0</td>\n",
       "      <td>6</td>\n",
       "    </tr>\n",
       "  </tbody>\n",
       "</table>\n",
       "</div>"
      ],
      "text/plain": [
       "      HH   HH_1    HV  icetype\n",
       "0  149.0   88.0  59.0        2\n",
       "1  142.0  107.0  53.0        1\n",
       "2  160.5   48.0  87.0        2\n",
       "3  149.0   87.0  60.0        2\n",
       "4  157.0   57.0  79.0        6"
      ]
     },
     "execution_count": 163,
     "metadata": {},
     "output_type": "execute_result"
    }
   ],
   "source": [
    "xpca.head(5)"
   ]
  },
  {
   "cell_type": "code",
   "execution_count": 164,
   "id": "da6f4ecc",
   "metadata": {},
   "outputs": [
    {
     "name": "stdout",
     "output_type": "stream",
     "text": [
      "[[-3.62153161e-01  8.87820070e-01 -2.83936865e-01  6.83644878e-04]\n",
      " [ 4.49929943e-01 -1.00264881e-01 -8.87358203e-01  1.02674145e-02]]\n",
      "[729.35860788  33.08101876]\n"
     ]
    }
   ],
   "source": [
    "print(pca.components_)\n",
    "print(pca.explained_variance_)"
   ]
  },
  {
   "cell_type": "code",
   "execution_count": 165,
   "id": "1f30f3b4",
   "metadata": {},
   "outputs": [
    {
     "name": "stdout",
     "output_type": "stream",
     "text": [
      "[[  9.49209359  13.16738284]\n",
      " [ 30.5986846   13.4267223 ]\n",
      " [-38.13570279  -2.49385724]\n",
      " ...\n",
      " [  3.5567803  -11.00069808]\n",
      " [  2.59347851  -9.5220754 ]\n",
      " [  3.5567803  -11.00069808]]\n"
     ]
    }
   ],
   "source": [
    "B = pca.transform(xpca)\n",
    "print(B)"
   ]
  },
  {
   "cell_type": "code",
   "execution_count": 166,
   "id": "e6c5a9be",
   "metadata": {},
   "outputs": [
    {
     "data": {
      "text/plain": [
       "StandardScaler()"
      ]
     },
     "execution_count": 166,
     "metadata": {},
     "output_type": "execute_result"
    }
   ],
   "source": [
    "scaler = StandardScaler()\n",
    "scaler.fit(xpca)"
   ]
  },
  {
   "cell_type": "code",
   "execution_count": 167,
   "id": "74112c28",
   "metadata": {},
   "outputs": [],
   "source": [
    "scaled_data = scaler.transform(xpca)"
   ]
  },
  {
   "cell_type": "code",
   "execution_count": 168,
   "id": "f0f5e58a",
   "metadata": {},
   "outputs": [
    {
     "data": {
      "text/plain": [
       "PCA(n_components=2)"
      ]
     },
     "execution_count": 168,
     "metadata": {},
     "output_type": "execute_result"
    }
   ],
   "source": [
    "pca = PCA(n_components=2)\n",
    "pca.fit(scaled_data)"
   ]
  },
  {
   "cell_type": "code",
   "execution_count": 169,
   "id": "d59509c1",
   "metadata": {},
   "outputs": [
    {
     "data": {
      "text/plain": [
       "array([[ 0.88983344, -0.6555041 ],\n",
       "       [ 2.11986919, -1.15406008],\n",
       "       [-2.42475098, -0.65417303],\n",
       "       ...,\n",
       "       [-0.02305298, -1.18714118],\n",
       "       [-0.02644496,  0.75763365],\n",
       "       [-0.02305298, -1.18714118]])"
      ]
     },
     "execution_count": 169,
     "metadata": {},
     "output_type": "execute_result"
    }
   ],
   "source": [
    "x_pca = pca.transform(scaled_data)\n",
    "x_pca"
   ]
  },
  {
   "cell_type": "code",
   "execution_count": 170,
   "id": "53083180",
   "metadata": {},
   "outputs": [
    {
     "data": {
      "text/plain": [
       "(array([ 0.88983344,  2.11986919, -2.42475098, ..., -0.02305298,\n",
       "        -0.02644496, -0.02305298]),\n",
       " array([-0.6555041 , -1.15406008, -0.65417303, ..., -1.18714118,\n",
       "         0.75763365, -1.18714118]))"
      ]
     },
     "execution_count": 170,
     "metadata": {},
     "output_type": "execute_result"
    }
   ],
   "source": [
    "x_pca[:,0],x_pca[:,1]"
   ]
  },
  {
   "cell_type": "code",
   "execution_count": 171,
   "id": "5c631102",
   "metadata": {},
   "outputs": [
    {
     "data": {
      "text/plain": [
       "Text(0.5, 1.0, 'Principal components - December 2020')"
      ]
     },
     "execution_count": 171,
     "metadata": {},
     "output_type": "execute_result"
    },
    {
     "data": {
      "image/png": "[encoded data removed]",
      "text/plain": [
       "<Figure size 864x432 with 1 Axes>"
      ]
     },
     "metadata": {
      "needs_background": "light"
     },
     "output_type": "display_data"
    }
   ],
   "source": [
    "figx = plt.figure(figsize=(12,6))\n",
    "plt.scatter(x_pca[:,0],x_pca[:,1], c=dxt['icetype'],cmap='rainbow')\n",
    "plt.xlabel('1st principal component')\n",
    "plt.ylabel('2nd Principal Component')\n",
    "plt.title('Principal components - December 2020')\n",
    "#figx.savefig('component.png')"
   ]
  },
  {
   "cell_type": "code",
   "execution_count": 172,
   "id": "2d820d89",
   "metadata": {},
   "outputs": [
    {
     "data": {
      "image/png": "[encoded data removed]",
      "text/plain": [
       "<Figure size 864x432 with 2 Axes>"
      ]
     },
     "metadata": {
      "needs_background": "light"
     },
     "output_type": "display_data"
    }
   ],
   "source": [
    "figdec = plt.figure(figsize=(12,6))\n",
    "map = pd.DataFrame(pca.components_,columns=['OW','TIL','TINP','TIKP'])\n",
    "plt.title('Correlation heatmap - Dec 2020')\n",
    "sns.heatmap(map,cmap='jet')\n",
    "#figdec.savefig('dpca.png')"
   ]
  },
  {
   "cell_type": "markdown",
   "id": "dc6d908d",
   "metadata": {},
   "source": [
    "### Histogram distributions"
   ]
  },
  {
   "cell_type": "code",
   "execution_count": 184,
   "id": "04d28d2b",
   "metadata": {},
   "outputs": [
    {
     "data": {
      "text/plain": [
       "[<matplotlib.lines.Line2D at 0x1fdbafde970>]"
      ]
     },
     "execution_count": 184,
     "metadata": {},
     "output_type": "execute_result"
    },
    {
     "data": {
      "image/png": "[encoded data removed]",
      "text/plain": [
       "<Figure size 432x288 with 1 Axes>"
      ]
     },
     "metadata": {
      "needs_background": "light"
     },
     "output_type": "display_data"
    }
   ],
   "source": [
    "fig = plt.figure()\n",
    "(n, bins) = np.histogram(dxt.HH, bins=50, density=True)\n",
    "plt.plot(.5*(bins[1:]+bins[:-1]), n)\n",
    "#fig.savefig('hh_bin.png')"
   ]
  },
  {
   "cell_type": "code",
   "execution_count": 185,
   "id": "975c8b79",
   "metadata": {},
   "outputs": [
    {
     "data": {
      "text/plain": [
       "[<matplotlib.lines.Line2D at 0x1fdbb040700>]"
      ]
     },
     "execution_count": 185,
     "metadata": {},
     "output_type": "execute_result"
    },
    {
     "data": {
      "image/png": "[encoded data removed]",
      "text/plain": [
       "<Figure size 432x288 with 1 Axes>"
      ]
     },
     "metadata": {
      "needs_background": "light"
     },
     "output_type": "display_data"
    }
   ],
   "source": [
    "fig2 = plt.figure()\n",
    "(n, bins) = np.histogram(dxt.HV, bins=50, density=True) \n",
    "plt.plot(.5*(bins[1:]+bins[:-1]), n)\n",
    "#fig2.savefig('hvbin.png')"
   ]
  },
  {
   "cell_type": "code",
   "execution_count": 186,
   "id": "50c8b39a",
   "metadata": {},
   "outputs": [
    {
     "data": {
      "text/plain": [
       "[<matplotlib.lines.Line2D at 0x1fdbe050fd0>]"
      ]
     },
     "execution_count": 186,
     "metadata": {},
     "output_type": "execute_result"
    },
    {
     "data": {
      "image/png": "[encoded data removed]",
      "text/plain": [
       "<Figure size 432x288 with 1 Axes>"
      ]
     },
     "metadata": {
      "needs_background": "light"
     },
     "output_type": "display_data"
    }
   ],
   "source": [
    "fig3 = plt.figure()\n",
    "(n, bins) = np.histogram(dxt.HH_1, bins=50, density=True) \n",
    "plt.plot(.5*(bins[1:]+bins[:-1]), n)\n",
    "#fig3.savefig('hxvbin.png')"
   ]
  },
  {
   "cell_type": "markdown",
   "id": "2b6274be",
   "metadata": {},
   "source": [
    "### Band correlations"
   ]
  },
  {
   "cell_type": "code",
   "execution_count": 178,
   "id": "93c40036",
   "metadata": {},
   "outputs": [],
   "source": [
    "hh = txt['HH'].astype(np.int64) \n",
    "hv = txt['HV'].astype(np.int64)\n",
    "hxv = txt['HH_1'].astype(np.int64)"
   ]
  },
  {
   "cell_type": "code",
   "execution_count": 179,
   "id": "c78bb39b",
   "metadata": {},
   "outputs": [],
   "source": [
    "x =  hh\n",
    "y = hxv\n",
    "def calculate_linear_regression_coef(x, y): \n",
    "    if(np.size(x) != np.size(y)):\n",
    "        sys.exit(\"The two vectors x and y are not of the same length.\")\n",
    "\n",
    "    # number of observations/points \n",
    "    n = np.size(x)\n",
    "\n",
    "    sx = np.sum(x)\n",
    "    sy = np.sum(y)\n",
    "\n",
    "    sx2 = np.inner(x,x)\n",
    "    sxy = np.inner(x,y)\n",
    "    sy2 = np.inner(y,y)\n",
    "\n",
    "    # calculating regression coefficients \n",
    "    a1 = (n*sxy - sx*sy)/(n*sx2 - sx**2)\n",
    "    a0 = sy/n - a1*sx/n\n",
    "\n",
    "    r2 = ((n*sxy-sx*sy)/np.sqrt(n*sx2-sx**2)/np.sqrt(n*sy2-sy**2))**2;\n",
    "\n",
    "    return(a0, a1, r2) "
   ]
  },
  {
   "cell_type": "code",
   "execution_count": 180,
   "id": "5355abb8",
   "metadata": {},
   "outputs": [],
   "source": [
    "a0, a1, r2 = calculate_linear_regression_coef(x, y) "
   ]
  },
  {
   "cell_type": "code",
   "execution_count": 181,
   "id": "82f71bfa",
   "metadata": {},
   "outputs": [
    {
     "data": {
      "image/png": "[encoded data removed]",
      "text/plain": [
       "<Figure size 432x288 with 1 Axes>"
      ]
     },
     "metadata": {
      "needs_background": "light"
     },
     "output_type": "display_data"
    }
   ],
   "source": [
    "# plotting the original data points\n",
    "plt.scatter(x, y, c = \"r\", marker = \"x\", s = 40) \n",
    "\n",
    "# predicted value using the fitting curve\n",
    "y_pred = a0 + a1*x \n",
    "\n",
    "# plotting the regression line \n",
    "plt.plot(x, y_pred, color = \"k\")\n",
    "#label='fitted line: y = %.2f x + %.2f'%(a1, a0))\n",
    "\n",
    "text = plt.text(5,5,'r-squared = - %.2f'%r2, fontsize=11)\n",
    "\n",
    "plt.xlabel('Co-Polarized',fontsize=9) \n",
    "plt.ylabel('Calc Band',fontsize=9) \n",
    "\n",
    "#show the ticks on both axes and set the font size \n",
    "plt.tick_params(axis='both', which='major', labelsize=11)\n",
    "\n",
    "plt.show()"
   ]
  },
  {
   "cell_type": "code",
   "execution_count": 182,
   "id": "8367848b",
   "metadata": {},
   "outputs": [],
   "source": [
    "x =  hv\n",
    "y = hxv\n",
    "def calculate_linear_regression_coef(x, y): \n",
    "    if(np.size(x) != np.size(y)):\n",
    "        sys.exit(\"The two vectors x and y are not of the same length.\")\n",
    "\n",
    "    # number of observations/points \n",
    "    n = np.size(x)\n",
    "\n",
    "    sx = np.sum(x)\n",
    "    sy = np.sum(y)\n",
    "\n",
    "    sx2 = np.inner(x,x)\n",
    "    sxy = np.inner(x,y)\n",
    "    sy2 = np.inner(y,y)\n",
    "\n",
    "    # calculating regression coefficients \n",
    "    a1 = (n*sxy - sx*sy)/(n*sx2 - sx**2)\n",
    "    a0 = sy/n - a1*sx/n\n",
    "\n",
    "    r2 = ((n*sxy-sx*sy)/np.sqrt(n*sx2-sx**2)/np.sqrt(n*sy2-sy**2))**2;\n",
    "\n",
    "    return(a0, a1, r2) \n",
    "a0, a1, r2 = calculate_linear_regression_coef(x, y) "
   ]
  },
  {
   "cell_type": "code",
   "execution_count": 183,
   "id": "691bfc93",
   "metadata": {},
   "outputs": [
    {
     "data": {
      "image/png": "[encoded data removed]",
      "text/plain": [
       "<Figure size 432x288 with 1 Axes>"
      ]
     },
     "metadata": {
      "needs_background": "light"
     },
     "output_type": "display_data"
    }
   ],
   "source": [
    "# plotting the original data points\n",
    "plt.scatter(x, y, c = \"r\", marker = \"x\", s = 40) \n",
    "\n",
    "# predicted value using the fitting curve\n",
    "y_pred = a0 + a1*x \n",
    "\n",
    "# plotting the regression line \n",
    "plt.plot(x, y_pred, color = \"k\")\n",
    "#label='fitted line: y = %.2f x + %.2f'%(a1, a0))\n",
    "\n",
    "text = plt.text(5,5,'r-squared = - %.2f'%r2, fontsize=11)\n",
    "\n",
    "plt.xlabel('Co-Polarized',fontsize=9) \n",
    "plt.ylabel('Calc Band',fontsize=9) \n",
    "\n",
    "#show the ticks on both axes and set the font size \n",
    "plt.tick_params(axis='both', which='major', labelsize=11)\n",
    "\n",
    "plt.show()"
   ]
  },
  {
   "cell_type": "code",
   "execution_count": 11,
   "id": "d689256d",
   "metadata": {},
   "outputs": [],
   "source": [
    "types = ['Open water','Thin ice lead', 'Thin ice pack','Thick ice pack']\n",
    "colors_list = ['orangered', 'slateblue', 'cornflowerblue', 'gainsboro']\n",
    "explode_val = (0.1, 0.1, 0.1, 0.1)"
   ]
  },
  {
   "cell_type": "code",
   "execution_count": 13,
   "id": "68584275",
   "metadata": {},
   "outputs": [
    {
     "data": {
      "image/png": "[encoded data removed]",
      "text/plain": [
       "<Figure size 1080x504 with 1 Axes>"
      ]
     },
     "metadata": {},
     "output_type": "display_data"
    }
   ],
   "source": [
    "plt.figure(figsize=(15,7))\n",
    "ic = dxt.groupby([dxt[\"icetype\"]])[\"area\"].sum()\n",
    "plt.pie(ic, labels=types,autopct='%.2f',explode = explode_val, colors=colors_list)\n",
    "plt.title(\"December 2020 - Sea ice fraction\",color = 'black', fontweight = 'bold', fontsize = '16')\n",
    "#plt.savefig('dec_fraction.png')\n",
    "plt.show()"
   ]
  },
  {
   "cell_type": "code",
   "execution_count": null,
   "id": "414e7e3d",
   "metadata": {},
   "outputs": [],
   "source": []
  }
 ],
 "metadata": {
  "kernelspec": {
   "display_name": "Python 3",
   "language": "python",
   "name": "python3"
  },
  "language_info": {
   "codemirror_mode": {
    "name": "ipython",
    "version": 3
   },
   "file_extension": ".py",
   "mimetype": "text/x-python",
   "name": "python",
   "nbconvert_exporter": "python",
   "pygments_lexer": "ipython3",
   "version": "3.9.2"
  }
 },
 "nbformat": 4,
 "nbformat_minor": 5
}
