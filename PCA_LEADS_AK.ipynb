{
 "cells": [
  {
   "cell_type": "code",
   "execution_count": 1,
   "id": "786ec14d",
   "metadata": {},
   "outputs": [],
   "source": [
    "import pandas as pd\n",
    "import numpy as np\n",
    "import geopandas as gpd\n",
    "import matplotlib \n",
    "from matplotlib import pyplot as plt\n",
    "from scipy import fftpack\n",
    "from scipy import stats\n",
    "\n",
    "from matplotlib import cm\n",
    "import random\n",
    "import warnings\n",
    "\n",
    "import matplotlib.image as mpimg\n",
    "from sklearn.metrics import r2_score\n",
    "from sklearn.decomposition import PCA\n",
    "from sklearn.preprocessing import StandardScaler\n",
    "import seaborn as sns\n",
    "%matplotlib inline"
   ]
  },
  {
   "cell_type": "markdown",
   "id": "e955de60",
   "metadata": {},
   "source": [
    "### Link to dataset. Must have UTSA email to access"
   ]
  },
  {
   "cell_type": "code",
   "execution_count": null,
   "id": "9d15ecc5",
   "metadata": {},
   "outputs": [],
   "source": [
    "#https://drive.google.com/file/d/1Qa-_zm_zP6mxBJYdcRR7YwGcehbVJ8SO/view?usp=sharing"
   ]
  },
  {
   "cell_type": "code",
   "execution_count": 13,
   "id": "2a741849",
   "metadata": {},
   "outputs": [],
   "source": [
    "dxt =  pd.read_csv(\"C:/Users/julli/Desktop/classes/dxt.csv\").dropna()"
   ]
  },
  {
   "cell_type": "code",
   "execution_count": 14,
   "id": "2e4a7d73",
   "metadata": {},
   "outputs": [
    {
     "data": {
      "text/html": [
       "<div>\n",
       "<style scoped>\n",
       "    .dataframe tbody tr th:only-of-type {\n",
       "        vertical-align: middle;\n",
       "    }\n",
       "\n",
       "    .dataframe tbody tr th {\n",
       "        vertical-align: top;\n",
       "    }\n",
       "\n",
       "    .dataframe thead th {\n",
       "        text-align: right;\n",
       "    }\n",
       "</style>\n",
       "<table border=\"1\" class=\"dataframe\">\n",
       "  <thead>\n",
       "    <tr style=\"text-align: right;\">\n",
       "      <th></th>\n",
       "      <th>Unnamed: 0</th>\n",
       "      <th>HH</th>\n",
       "      <th>HH_1</th>\n",
       "      <th>icetype</th>\n",
       "      <th>HV</th>\n",
       "      <th>geometry</th>\n",
       "      <th>jday</th>\n",
       "    </tr>\n",
       "  </thead>\n",
       "  <tbody>\n",
       "    <tr>\n",
       "      <th>0</th>\n",
       "      <td>0</td>\n",
       "      <td>149.000000</td>\n",
       "      <td>88.000000</td>\n",
       "      <td>2</td>\n",
       "      <td>59.000000</td>\n",
       "      <td>POLYGON ((-144.959469745712 74.06938132830848,...</td>\n",
       "      <td>335</td>\n",
       "    </tr>\n",
       "    <tr>\n",
       "      <th>1</th>\n",
       "      <td>1</td>\n",
       "      <td>142.000000</td>\n",
       "      <td>107.000000</td>\n",
       "      <td>1</td>\n",
       "      <td>53.000000</td>\n",
       "      <td>POLYGON ((-145.0724778374389 74.02497440260562...</td>\n",
       "      <td>335</td>\n",
       "    </tr>\n",
       "    <tr>\n",
       "      <th>2</th>\n",
       "      <td>2</td>\n",
       "      <td>160.500000</td>\n",
       "      <td>48.000000</td>\n",
       "      <td>2</td>\n",
       "      <td>87.000000</td>\n",
       "      <td>POLYGON ((-145.166166156247 73.9879255383776, ...</td>\n",
       "      <td>335</td>\n",
       "    </tr>\n",
       "    <tr>\n",
       "      <th>3</th>\n",
       "      <td>3</td>\n",
       "      <td>149.000000</td>\n",
       "      <td>87.000000</td>\n",
       "      <td>2</td>\n",
       "      <td>60.000000</td>\n",
       "      <td>MULTIPOLYGON (((-145.4344979880491 73.89654245...</td>\n",
       "      <td>335</td>\n",
       "    </tr>\n",
       "    <tr>\n",
       "      <th>4</th>\n",
       "      <td>4</td>\n",
       "      <td>157.000000</td>\n",
       "      <td>57.000000</td>\n",
       "      <td>3</td>\n",
       "      <td>79.000000</td>\n",
       "      <td>POLYGON ((-145.7009974453218 73.77228602079651...</td>\n",
       "      <td>335</td>\n",
       "    </tr>\n",
       "    <tr>\n",
       "      <th>5</th>\n",
       "      <td>5</td>\n",
       "      <td>155.000000</td>\n",
       "      <td>63.000000</td>\n",
       "      <td>3</td>\n",
       "      <td>77.000000</td>\n",
       "      <td>POLYGON ((-146.025764787868 73.63780996923603,...</td>\n",
       "      <td>335</td>\n",
       "    </tr>\n",
       "    <tr>\n",
       "      <th>6</th>\n",
       "      <td>6</td>\n",
       "      <td>152.000000</td>\n",
       "      <td>68.000000</td>\n",
       "      <td>3</td>\n",
       "      <td>76.000000</td>\n",
       "      <td>POLYGON ((-146.2038620376282 73.56289860703123...</td>\n",
       "      <td>335</td>\n",
       "    </tr>\n",
       "    <tr>\n",
       "      <th>7</th>\n",
       "      <td>7</td>\n",
       "      <td>154.000000</td>\n",
       "      <td>64.000000</td>\n",
       "      <td>2</td>\n",
       "      <td>79.000000</td>\n",
       "      <td>POLYGON ((-146.6765925212046 73.35993675807399...</td>\n",
       "      <td>335</td>\n",
       "    </tr>\n",
       "    <tr>\n",
       "      <th>8</th>\n",
       "      <td>8</td>\n",
       "      <td>151.846154</td>\n",
       "      <td>71.384615</td>\n",
       "      <td>3</td>\n",
       "      <td>73.076923</td>\n",
       "      <td>POLYGON ((-146.9682765329848 73.23163605899911...</td>\n",
       "      <td>335</td>\n",
       "    </tr>\n",
       "    <tr>\n",
       "      <th>9</th>\n",
       "      <td>9</td>\n",
       "      <td>155.000000</td>\n",
       "      <td>61.000000</td>\n",
       "      <td>2</td>\n",
       "      <td>79.000000</td>\n",
       "      <td>POLYGON ((-147.6041472837618 72.94348331820399...</td>\n",
       "      <td>335</td>\n",
       "    </tr>\n",
       "  </tbody>\n",
       "</table>\n",
       "</div>"
      ],
      "text/plain": [
       "   Unnamed: 0          HH        HH_1  icetype         HV  \\\n",
       "0           0  149.000000   88.000000        2  59.000000   \n",
       "1           1  142.000000  107.000000        1  53.000000   \n",
       "2           2  160.500000   48.000000        2  87.000000   \n",
       "3           3  149.000000   87.000000        2  60.000000   \n",
       "4           4  157.000000   57.000000        3  79.000000   \n",
       "5           5  155.000000   63.000000        3  77.000000   \n",
       "6           6  152.000000   68.000000        3  76.000000   \n",
       "7           7  154.000000   64.000000        2  79.000000   \n",
       "8           8  151.846154   71.384615        3  73.076923   \n",
       "9           9  155.000000   61.000000        2  79.000000   \n",
       "\n",
       "                                            geometry  jday  \n",
       "0  POLYGON ((-144.959469745712 74.06938132830848,...   335  \n",
       "1  POLYGON ((-145.0724778374389 74.02497440260562...   335  \n",
       "2  POLYGON ((-145.166166156247 73.9879255383776, ...   335  \n",
       "3  MULTIPOLYGON (((-145.4344979880491 73.89654245...   335  \n",
       "4  POLYGON ((-145.7009974453218 73.77228602079651...   335  \n",
       "5  POLYGON ((-146.025764787868 73.63780996923603,...   335  \n",
       "6  POLYGON ((-146.2038620376282 73.56289860703123...   335  \n",
       "7  POLYGON ((-146.6765925212046 73.35993675807399...   335  \n",
       "8  POLYGON ((-146.9682765329848 73.23163605899911...   335  \n",
       "9  POLYGON ((-147.6041472837618 72.94348331820399...   335  "
      ]
     },
     "execution_count": 14,
     "metadata": {},
     "output_type": "execute_result"
    }
   ],
   "source": [
    "dxt.head(10)"
   ]
  },
  {
   "cell_type": "code",
   "execution_count": 15,
   "id": "d901488d",
   "metadata": {},
   "outputs": [
    {
     "data": {
      "text/html": [
       "<div>\n",
       "<style scoped>\n",
       "    .dataframe tbody tr th:only-of-type {\n",
       "        vertical-align: middle;\n",
       "    }\n",
       "\n",
       "    .dataframe tbody tr th {\n",
       "        vertical-align: top;\n",
       "    }\n",
       "\n",
       "    .dataframe thead th {\n",
       "        text-align: right;\n",
       "    }\n",
       "</style>\n",
       "<table border=\"1\" class=\"dataframe\">\n",
       "  <thead>\n",
       "    <tr style=\"text-align: right;\">\n",
       "      <th></th>\n",
       "      <th>HH</th>\n",
       "      <th>HH_1</th>\n",
       "      <th>HV</th>\n",
       "      <th>icetype</th>\n",
       "      <th>geometry</th>\n",
       "      <th>jday</th>\n",
       "    </tr>\n",
       "  </thead>\n",
       "  <tbody>\n",
       "    <tr>\n",
       "      <th>0</th>\n",
       "      <td>149.000000</td>\n",
       "      <td>88.000000</td>\n",
       "      <td>59.000000</td>\n",
       "      <td>2</td>\n",
       "      <td>POLYGON ((-144.959469745712 74.06938132830848,...</td>\n",
       "      <td>335</td>\n",
       "    </tr>\n",
       "    <tr>\n",
       "      <th>1</th>\n",
       "      <td>142.000000</td>\n",
       "      <td>107.000000</td>\n",
       "      <td>53.000000</td>\n",
       "      <td>1</td>\n",
       "      <td>POLYGON ((-145.0724778374389 74.02497440260562...</td>\n",
       "      <td>335</td>\n",
       "    </tr>\n",
       "    <tr>\n",
       "      <th>2</th>\n",
       "      <td>160.500000</td>\n",
       "      <td>48.000000</td>\n",
       "      <td>87.000000</td>\n",
       "      <td>2</td>\n",
       "      <td>POLYGON ((-145.166166156247 73.9879255383776, ...</td>\n",
       "      <td>335</td>\n",
       "    </tr>\n",
       "    <tr>\n",
       "      <th>3</th>\n",
       "      <td>149.000000</td>\n",
       "      <td>87.000000</td>\n",
       "      <td>60.000000</td>\n",
       "      <td>2</td>\n",
       "      <td>MULTIPOLYGON (((-145.4344979880491 73.89654245...</td>\n",
       "      <td>335</td>\n",
       "    </tr>\n",
       "    <tr>\n",
       "      <th>4</th>\n",
       "      <td>157.000000</td>\n",
       "      <td>57.000000</td>\n",
       "      <td>79.000000</td>\n",
       "      <td>3</td>\n",
       "      <td>POLYGON ((-145.7009974453218 73.77228602079651...</td>\n",
       "      <td>335</td>\n",
       "    </tr>\n",
       "    <tr>\n",
       "      <th>5</th>\n",
       "      <td>155.000000</td>\n",
       "      <td>63.000000</td>\n",
       "      <td>77.000000</td>\n",
       "      <td>3</td>\n",
       "      <td>POLYGON ((-146.025764787868 73.63780996923603,...</td>\n",
       "      <td>335</td>\n",
       "    </tr>\n",
       "    <tr>\n",
       "      <th>6</th>\n",
       "      <td>152.000000</td>\n",
       "      <td>68.000000</td>\n",
       "      <td>76.000000</td>\n",
       "      <td>3</td>\n",
       "      <td>POLYGON ((-146.2038620376282 73.56289860703123...</td>\n",
       "      <td>335</td>\n",
       "    </tr>\n",
       "    <tr>\n",
       "      <th>7</th>\n",
       "      <td>154.000000</td>\n",
       "      <td>64.000000</td>\n",
       "      <td>79.000000</td>\n",
       "      <td>2</td>\n",
       "      <td>POLYGON ((-146.6765925212046 73.35993675807399...</td>\n",
       "      <td>335</td>\n",
       "    </tr>\n",
       "    <tr>\n",
       "      <th>8</th>\n",
       "      <td>151.846154</td>\n",
       "      <td>71.384615</td>\n",
       "      <td>73.076923</td>\n",
       "      <td>3</td>\n",
       "      <td>POLYGON ((-146.9682765329848 73.23163605899911...</td>\n",
       "      <td>335</td>\n",
       "    </tr>\n",
       "    <tr>\n",
       "      <th>9</th>\n",
       "      <td>155.000000</td>\n",
       "      <td>61.000000</td>\n",
       "      <td>79.000000</td>\n",
       "      <td>2</td>\n",
       "      <td>POLYGON ((-147.6041472837618 72.94348331820399...</td>\n",
       "      <td>335</td>\n",
       "    </tr>\n",
       "  </tbody>\n",
       "</table>\n",
       "</div>"
      ],
      "text/plain": [
       "           HH        HH_1         HV  icetype  \\\n",
       "0  149.000000   88.000000  59.000000        2   \n",
       "1  142.000000  107.000000  53.000000        1   \n",
       "2  160.500000   48.000000  87.000000        2   \n",
       "3  149.000000   87.000000  60.000000        2   \n",
       "4  157.000000   57.000000  79.000000        3   \n",
       "5  155.000000   63.000000  77.000000        3   \n",
       "6  152.000000   68.000000  76.000000        3   \n",
       "7  154.000000   64.000000  79.000000        2   \n",
       "8  151.846154   71.384615  73.076923        3   \n",
       "9  155.000000   61.000000  79.000000        2   \n",
       "\n",
       "                                            geometry  jday  \n",
       "0  POLYGON ((-144.959469745712 74.06938132830848,...   335  \n",
       "1  POLYGON ((-145.0724778374389 74.02497440260562...   335  \n",
       "2  POLYGON ((-145.166166156247 73.9879255383776, ...   335  \n",
       "3  MULTIPOLYGON (((-145.4344979880491 73.89654245...   335  \n",
       "4  POLYGON ((-145.7009974453218 73.77228602079651...   335  \n",
       "5  POLYGON ((-146.025764787868 73.63780996923603,...   335  \n",
       "6  POLYGON ((-146.2038620376282 73.56289860703123...   335  \n",
       "7  POLYGON ((-146.6765925212046 73.35993675807399...   335  \n",
       "8  POLYGON ((-146.9682765329848 73.23163605899911...   335  \n",
       "9  POLYGON ((-147.6041472837618 72.94348331820399...   335  "
      ]
     },
     "execution_count": 15,
     "metadata": {},
     "output_type": "execute_result"
    }
   ],
   "source": [
    "dxt = dxt[['HH','HH_1','HV','icetype','geometry','jday']]\n",
    "dxt.head(10)"
   ]
  },
  {
   "cell_type": "code",
   "execution_count": 16,
   "id": "15647365",
   "metadata": {},
   "outputs": [],
   "source": [
    "pca = PCA(2)"
   ]
  },
  {
   "cell_type": "code",
   "execution_count": 32,
   "id": "a6a321de",
   "metadata": {},
   "outputs": [
    {
     "data": {
      "text/plain": [
       "PCA(n_components=2)"
      ]
     },
     "execution_count": 32,
     "metadata": {},
     "output_type": "execute_result"
    }
   ],
   "source": [
    "xpca = dxt.iloc[:, 0:4]\n",
    "pca.fit(xpca)"
   ]
  },
  {
   "cell_type": "code",
   "execution_count": 33,
   "id": "d332657a",
   "metadata": {},
   "outputs": [
    {
     "data": {
      "text/html": [
       "<div>\n",
       "<style scoped>\n",
       "    .dataframe tbody tr th:only-of-type {\n",
       "        vertical-align: middle;\n",
       "    }\n",
       "\n",
       "    .dataframe tbody tr th {\n",
       "        vertical-align: top;\n",
       "    }\n",
       "\n",
       "    .dataframe thead th {\n",
       "        text-align: right;\n",
       "    }\n",
       "</style>\n",
       "<table border=\"1\" class=\"dataframe\">\n",
       "  <thead>\n",
       "    <tr style=\"text-align: right;\">\n",
       "      <th></th>\n",
       "      <th>HH</th>\n",
       "      <th>HH_1</th>\n",
       "      <th>HV</th>\n",
       "      <th>icetype</th>\n",
       "    </tr>\n",
       "  </thead>\n",
       "  <tbody>\n",
       "    <tr>\n",
       "      <th>0</th>\n",
       "      <td>149.0</td>\n",
       "      <td>88.0</td>\n",
       "      <td>59.0</td>\n",
       "      <td>2</td>\n",
       "    </tr>\n",
       "    <tr>\n",
       "      <th>1</th>\n",
       "      <td>142.0</td>\n",
       "      <td>107.0</td>\n",
       "      <td>53.0</td>\n",
       "      <td>1</td>\n",
       "    </tr>\n",
       "    <tr>\n",
       "      <th>2</th>\n",
       "      <td>160.5</td>\n",
       "      <td>48.0</td>\n",
       "      <td>87.0</td>\n",
       "      <td>2</td>\n",
       "    </tr>\n",
       "    <tr>\n",
       "      <th>3</th>\n",
       "      <td>149.0</td>\n",
       "      <td>87.0</td>\n",
       "      <td>60.0</td>\n",
       "      <td>2</td>\n",
       "    </tr>\n",
       "    <tr>\n",
       "      <th>4</th>\n",
       "      <td>157.0</td>\n",
       "      <td>57.0</td>\n",
       "      <td>79.0</td>\n",
       "      <td>3</td>\n",
       "    </tr>\n",
       "  </tbody>\n",
       "</table>\n",
       "</div>"
      ],
      "text/plain": [
       "      HH   HH_1    HV  icetype\n",
       "0  149.0   88.0  59.0        2\n",
       "1  142.0  107.0  53.0        1\n",
       "2  160.5   48.0  87.0        2\n",
       "3  149.0   87.0  60.0        2\n",
       "4  157.0   57.0  79.0        3"
      ]
     },
     "execution_count": 33,
     "metadata": {},
     "output_type": "execute_result"
    }
   ],
   "source": [
    "xpca.head(5)"
   ]
  },
  {
   "cell_type": "code",
   "execution_count": 34,
   "id": "5706908a",
   "metadata": {},
   "outputs": [
    {
     "name": "stdout",
     "output_type": "stream",
     "text": [
      "[[-0.36215054  0.88781935 -0.28393514  0.00215139]\n",
      " [ 0.4499539  -0.10026824 -0.88739789  0.00357068]]\n",
      "[729.36988294  33.0783337 ]\n"
     ]
    }
   ],
   "source": [
    "print(pca.components_)\n",
    "print(pca.explained_variance_)"
   ]
  },
  {
   "cell_type": "code",
   "execution_count": 35,
   "id": "d154bd82",
   "metadata": {},
   "outputs": [
    {
     "name": "stdout",
     "output_type": "stream",
     "text": [
      "[[  9.49215198  13.18076858]\n",
      " [ 30.59723281  13.4468115 ]\n",
      " [-38.13553705  -2.48117318]\n",
      " ...\n",
      " [  3.55538919 -10.98173402]\n",
      " [  2.59580863  -9.53340196]\n",
      " [  3.55538919 -10.98173402]]\n"
     ]
    }
   ],
   "source": [
    "B = pca.transform(xpca)\n",
    "print(B)"
   ]
  },
  {
   "cell_type": "code",
   "execution_count": 36,
   "id": "c6dd153c",
   "metadata": {},
   "outputs": [
    {
     "data": {
      "text/plain": [
       "StandardScaler()"
      ]
     },
     "execution_count": 36,
     "metadata": {},
     "output_type": "execute_result"
    }
   ],
   "source": [
    "scaler = StandardScaler()\n",
    "scaler.fit(xpca)"
   ]
  },
  {
   "cell_type": "code",
   "execution_count": 37,
   "id": "63f199e4",
   "metadata": {},
   "outputs": [],
   "source": [
    "scaled_data = scaler.transform(xpca)"
   ]
  },
  {
   "cell_type": "code",
   "execution_count": 38,
   "id": "72e3e86c",
   "metadata": {},
   "outputs": [
    {
     "data": {
      "text/plain": [
       "PCA(n_components=2)"
      ]
     },
     "execution_count": 38,
     "metadata": {},
     "output_type": "execute_result"
    }
   ],
   "source": [
    "pca = PCA(n_components=2)\n",
    "pca.fit(scaled_data)"
   ]
  },
  {
   "cell_type": "code",
   "execution_count": 39,
   "id": "27878940",
   "metadata": {},
   "outputs": [
    {
     "data": {
      "text/plain": [
       "array([[ 0.87485395,  0.4240801 ],\n",
       "       [ 2.05872388,  1.41486864],\n",
       "       [-2.43534031,  0.26623555],\n",
       "       ...,\n",
       "       [-0.08156115,  1.33292321],\n",
       "       [ 0.04328862, -1.44409839],\n",
       "       [-0.08156115,  1.33292321]])"
      ]
     },
     "execution_count": 39,
     "metadata": {},
     "output_type": "execute_result"
    }
   ],
   "source": [
    "x_pca = pca.transform(scaled_data)\n",
    "x_pca"
   ]
  },
  {
   "cell_type": "code",
   "execution_count": 40,
   "id": "cc6f0bd8",
   "metadata": {},
   "outputs": [
    {
     "data": {
      "text/plain": [
       "(array([ 0.87485395,  2.05872388, -2.43534031, ..., -0.08156115,\n",
       "         0.04328862, -0.08156115]),\n",
       " array([ 0.4240801 ,  1.41486864,  0.26623555, ...,  1.33292321,\n",
       "        -1.44409839,  1.33292321]))"
      ]
     },
     "execution_count": 40,
     "metadata": {},
     "output_type": "execute_result"
    }
   ],
   "source": [
    "x_pca[:,0],x_pca[:,1]"
   ]
  },
  {
   "cell_type": "code",
   "execution_count": 41,
   "id": "007ba85b",
   "metadata": {},
   "outputs": [
    {
     "data": {
      "text/plain": [
       "Text(0.5, 1.0, 'Principal components - December 2020')"
      ]
     },
     "execution_count": 41,
     "metadata": {},
     "output_type": "execute_result"
    },
    {
     "data": {
      "image/png": "[encoded data removed]",
      "text/plain": [
       "<Figure size 864x432 with 1 Axes>"
      ]
     },
     "metadata": {
      "needs_background": "light"
     },
     "output_type": "display_data"
    }
   ],
   "source": [
    "figx = plt.figure(figsize=(12,6))\n",
    "plt.scatter(x_pca[:,0],x_pca[:,1], c=dxt['icetype'],cmap='rainbow')\n",
    "plt.xlabel('1st principal component')\n",
    "plt.ylabel('2nd Principal Component')\n",
    "plt.title('Principal components - December 2020')\n",
    "#figx.savefig('/content/drive/My Drive/sar_fraction/prince.png')"
   ]
  },
  {
   "cell_type": "code",
   "execution_count": 42,
   "id": "6e760ec5",
   "metadata": {},
   "outputs": [
    {
     "data": {
      "text/plain": [
       "<AxesSubplot:title={'center':'Correlation heatmap - December 2020'}>"
      ]
     },
     "execution_count": 42,
     "metadata": {},
     "output_type": "execute_result"
    },
    {
     "data": {
      "image/png": "[encoded data removed]",
      "text/plain": [
       "<Figure size 864x432 with 2 Axes>"
      ]
     },
     "metadata": {
      "needs_background": "light"
     },
     "output_type": "display_data"
    }
   ],
   "source": [
    "figdec = plt.figure(figsize=(12,6))\n",
    "map = pd.DataFrame(pca.components_,columns=['OW','TIL','TIKP','TINP'])\n",
    "plt.title('Correlation heatmap - December 2020')\n",
    "sns.heatmap(map,cmap='jet')\n",
    "#figdec.savefig('/content/drive/My Drive/sar_fraction/cordec.png')"
   ]
  },
  {
   "cell_type": "code",
   "execution_count": null,
   "id": "2b2f3b4d",
   "metadata": {},
   "outputs": [],
   "source": []
  }
 ],
 "metadata": {
  "kernelspec": {
   "display_name": "Python 3",
   "language": "python",
   "name": "python3"
  },
  "language_info": {
   "codemirror_mode": {
    "name": "ipython",
    "version": 3
   },
   "file_extension": ".py",
   "mimetype": "text/x-python",
   "name": "python",
   "nbconvert_exporter": "python",
   "pygments_lexer": "ipython3",
   "version": "3.9.2"
  }
 },
 "nbformat": 4,
 "nbformat_minor": 5
}
